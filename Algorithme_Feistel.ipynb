{
 "cells": [
  {
   "cell_type": "markdown",
   "id": "dc130fb3",
   "metadata": {},
   "source": [
    "# Algorithme pour la génération des clés de Feistel sur La clé K de longueur 8"
   ]
  },
  {
   "cell_type": "code",
   "execution_count": null,
   "id": "170b24a9",
   "metadata": {},
   "outputs": [],
   "source": [
    "def generate_subkeys(key):\n",
    "    # Appliquer la fonction de permutation H\n",
    "    permutation = [6, 5, 2, 7, 4, 1, 3, 0]\n",
    "    permuted_key = [key[i] for i in permutation]\n",
    "\n",
    "    # Diviser K en deux blocs de 4 bits\n",
    "    k1 = permuted_key[:4]\n",
    "    k2 = permuted_key[4:]\n",
    "\n",
    "    # k1 = k'1 XOR k'2\n",
    "    k1 = xor(k1, k2)\n",
    "\n",
    "    # k2 = k'2 AND k'1\n",
    "    k2 = bitwise_and(k2, k1)\n",
    "\n",
    "    # Appliquer le décalage à gauche d'ordre 2 pour k1\n",
    "    k1 = left_shift(k1, 2)\n",
    "\n",
    "    # Appliquer le décalage à droite d'ordre 1 pour k2\n",
    "    k2 = right_shift(k2, 1)\n",
    "\n",
    "    return k1, k2\n",
    "\n",
    "def xor(a, b):\n",
    "    return [bit_a ^ bit_b for bit_a, bit_b in zip(a, b)]\n",
    "\n",
    "def bitwise_and(a, b):\n",
    "    return [bit_a & bit_b for bit_a, bit_b in zip(a, b)]\n",
    "\n",
    "def left_shift(bits, shift):\n",
    "    return bits[shift:] + bits[:shift]\n",
    "\n",
    "def right_shift(bits, shift):\n",
    "    return bits[-shift:] + bits[:-shift]"
   ]
  },
  {
   "cell_type": "code",
   "execution_count": null,
   "id": "9e5ef634",
   "metadata": {},
   "outputs": [
    {
     "name": "stdout",
     "output_type": "stream",
     "text": [
      "Sous-clé 1 : [1, 1, 1, 1]\n",
      "Sous-clé 2 : [1, 0, 0, 0]\n"
     ]
    }
   ],
   "source": [
    "# call function\n",
    "key = [1, 0, 1, 0, 0, 1, 1, 0]  # La clé de longueur 8\n",
    "subkey1, subkey2 = generate_subkeys(key)\n",
    "print(\"Sous-clé 1 :\", subkey1)\n",
    "print(\"Sous-clé 2 :\", subkey2)"
   ]
  },
  {
   "cell_type": "markdown",
   "id": "ccfb5399",
   "metadata": {},
   "source": [
    "# Algorithme de chiffrement de Feistel  Le bloc N de 8 bits"
   ]
  },
  {
   "cell_type": "code",
   "execution_count": null,
   "id": "7d3fa24d",
   "metadata": {},
   "outputs": [],
   "source": [
    "def feistel_cipher(plaintext, key1, key2):\n",
    "    # Appliquer la permutation π\n",
    "    permutation = [4, 6, 0, 2, 7, 3, 1, 5]\n",
    "    permuted_text = [plaintext[i] for i in permutation]\n",
    "\n",
    "    # Diviser N en deux blocs de 4 bits\n",
    "    left_block = permuted_text[:4]\n",
    "    right_block = permuted_text[4:]\n",
    "\n",
    "    # Premier Round\n",
    "    round_output = round_function(left_block, key1)\n",
    "    new_left_block = xor(right_block, round_output)\n",
    "    new_right_block = left_block\n",
    "\n",
    "    # Deuxième Round\n",
    "    round_output = round_function(new_left_block, key2)\n",
    "    new_left_block = xor(new_right_block, round_output)\n",
    "    new_right_block = new_left_block\n",
    "\n",
    "    # Concaténer les blocs\n",
    "    ciphertext = new_left_block + new_right_block\n",
    "\n",
    "    # Appliquer l'inverse de la permutation π\n",
    "    inverse_permutation = [2, 6, 0, 4, 7, 1, 3, 5]\n",
    "    permuted_ciphertext = [ciphertext[i] for i in inverse_permutation]\n",
    "\n",
    "    return permuted_ciphertext\n",
    "\n",
    "def round_function(block, key):\n",
    "    # Appliquer la permutation P = 2013\n",
    "    permutation = [2, 0, 1, 3]\n",
    "    permuted_block = [block[i] for i in permutation]\n",
    "\n",
    "    # XOR avec la clé\n",
    "    output = xor(permuted_block, key)\n",
    "\n",
    "    return output\n",
    "\n",
    "def xor(a, b):\n",
    "    return [bit_a ^ bit_b for bit_a, bit_b in zip(a, b)]\n",
    "\n"
   ]
  },
  {
   "cell_type": "code",
   "execution_count": null,
   "id": "568c3455",
   "metadata": {},
   "outputs": [
    {
     "name": "stdout",
     "output_type": "stream",
     "text": [
      "Texte chiffré : [0, 0, 1, 1, 0, 1, 0, 1]\n"
     ]
    }
   ],
   "source": [
    "# call function\n",
    "plaintext = [1, 0, 1, 0, 0, 1, 1, 0]  # Le bloc N de 8 bits\n",
    "key1 = [1, 1, 1, 1]  # Première sous-clé k1 de longueur 4 bits\n",
    "key2 = [1, 0, 0, 0]  # Deuxième sous-clé k2 de longueur 4 bits\n",
    "\n",
    "ciphertext = feistel_cipher(plaintext, key1, key2)\n",
    "print(\"Texte chiffré :\", ciphertext)"
   ]
  },
  {
   "cell_type": "markdown",
   "id": "94804e4c",
   "metadata": {},
   "source": [
    "# Algorithme de déchiffrement de Feistel sur  Le bloc C de 8 bits"
   ]
  },
  {
   "cell_type": "code",
   "execution_count": null,
   "id": "e90855e0",
   "metadata": {},
   "outputs": [],
   "source": [
    "def feistel_decipher(ciphertext, key1, key2):\n",
    "    # Appliquer l'inverse de la permutation π\n",
    "    inverse_permutation = [2, 6, 0, 4, 7, 1, 3, 5]\n",
    "    permuted_ciphertext = [ciphertext[i] for i in inverse_permutation]\n",
    "\n",
    "    # Diviser C en deux blocs de 4 bits\n",
    "    left_block = permuted_ciphertext[:4]\n",
    "    right_block = permuted_ciphertext[4:]\n",
    "\n",
    "    # Deuxième Round\n",
    "    round_output = round_function(right_block, key1)\n",
    "    new_left_block = xor(left_block, round_output)\n",
    "    new_right_block = left_block\n",
    "\n",
    "    # Premier Round\n",
    "    round_output = round_function(new_left_block, key2)\n",
    "    new_right_block = xor(new_right_block, round_output)\n",
    "    new_left_block = new_right_block\n",
    "\n",
    "    # Concaténer les blocs\n",
    "    plaintext = new_left_block + new_right_block\n",
    "\n",
    "    # Appliquer l'inverse de la permutation P = 2013\n",
    "    inverse_permutation_p = [1, 2, 0, 3]\n",
    "    permuted_plaintext = [plaintext[i] for i in inverse_permutation_p]\n",
    "\n",
    "    return permuted_plaintext\n",
    "\n",
    "def round_function(block, key):\n",
    "    # Appliquer l'inverse de la permutation P = 2013\n",
    "    inverse_permutation_p = [2, 0, 1, 3]\n",
    "    permuted_block = [block[i] for i in inverse_permutation_p]\n",
    "\n",
    "    # XOR avec la clé\n",
    "    output = xor(permuted_block, key)\n",
    "\n",
    "    return output\n",
    "\n",
    "def xor(a, b):\n",
    "    return [bit_a ^ bit_b for bit_a, bit_b in zip(a, b)]"
   ]
  },
  {
   "cell_type": "code",
   "execution_count": null,
   "id": "ac3db1f0",
   "metadata": {},
   "outputs": [
    {
     "name": "stdout",
     "output_type": "stream",
     "text": [
      "Texte clair : [1, 1, 0, 1]\n"
     ]
    }
   ],
   "source": [
    "# call function\n",
    "ciphertext = [0, 1, 1, 0, 1, 0, 1, 1]  # Le bloc C de 8 bits\n",
    "key1 = [1, 1, 1, 1]  # Première sous-clé k1 de longueur 4 bits\n",
    "key2 = [1, 0, 0, 0]  # Deuxième sous-clé k2 de longueur 4 bits\n",
    "\n",
    "plaintext = feistel_decipher(ciphertext, key1, key2)\n",
    "print(\"Texte clair :\", plaintext)"
   ]
  },
  {
   "cell_type": "code",
   "execution_count": null,
   "id": "c03b723b",
   "metadata": {},
   "outputs": [],
   "source": []
  }
 ],
 "metadata": {
  "kernelspec": {
   "display_name": "Python 3 (ipykernel)",
   "language": "python",
   "name": "python3"
  },
  "language_info": {
   "codemirror_mode": {
    "name": "ipython",
    "version": 3
   },
   "file_extension": ".py",
   "mimetype": "text/x-python",
   "name": "python",
   "nbconvert_exporter": "python",
   "pygments_lexer": "ipython3",
   "version": "3.11.3"
  }
 },
 "nbformat": 4,
 "nbformat_minor": 5
}
