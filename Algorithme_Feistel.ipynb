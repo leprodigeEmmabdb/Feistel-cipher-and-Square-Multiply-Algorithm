{
 "cells": [
  {
   "cell_type": "markdown",
   "id": "dc130fb3",
   "metadata": {},
   "source": [
    "# Algorithme pour la génération des clés de Feistel sur La clé K de longueur 8"
   ]
  },
  {
   "cell_type": "code",
   "execution_count": 19,
   "id": "170b24a9",
   "metadata": {},
   "outputs": [],
   "source": [
    "def generate_subkeys(key):\n",
    "    # Appliquer la fonction de permutation H\n",
    "    permutation = [6, 5, 2, 7, 4, 1, 3, 0]\n",
    "    permuted_key = [key[i] for i in permutation]\n",
    "\n",
    "    # Diviser K en deux blocs de 4 bits\n",
    "    k1 = permuted_key[:4]\n",
    "    k2 = permuted_key[4:]\n",
    "\n",
    "    # k1 = k'1 XOR k'2\n",
    "    k1 = xor(k1, k2)\n",
    "\n",
    "    # k2 = k'2 AND k'1\n",
    "    k2 = bitwise_and(k2, k1)\n",
    "\n",
    "    # Appliquer le décalage à gauche d'ordre 2 pour k1\n",
    "    k1 = left_shift(k1, 2)\n",
    "\n",
    "    # Appliquer le décalage à droite d'ordre 1 pour k2\n",
    "    k2 = right_shift(k2, 1)\n",
    "\n",
    "    return k1, k2\n",
    "\n",
    "def xor(a, b):\n",
    "    return [bit_a ^ bit_b for bit_a, bit_b in zip(a, b)]\n",
    "\n",
    "def bitwise_and(a, b):\n",
    "    return [bit_a & bit_b for bit_a, bit_b in zip(a, b)]\n",
    "\n",
    "def left_shift(bits, shift):\n",
    "    return bits[shift:] + bits[:shift]\n",
    "\n",
    "def right_shift(bits, shift):\n",
    "    return bits[-shift:] + bits[:-shift]"
   ]
  },
  {
   "cell_type": "code",
   "execution_count": 20,
   "id": "9e5ef634",
   "metadata": {},
   "outputs": [
    {
     "name": "stdout",
     "output_type": "stream",
     "text": [
      "Sous-clé 1 : [1, 1, 1, 1]\n",
      "Sous-clé 2 : [1, 0, 0, 0]\n"
     ]
    }
   ],
   "source": [
    "# call function\n",
    "key = [1, 0, 1, 0, 0, 1, 1, 0]  # La clé de longueur 8\n",
    "subkey1, subkey2 = generate_subkeys(key)\n",
    "print(\"Sous-clé 1 :\", subkey1)\n",
    "print(\"Sous-clé 2 :\", subkey2)"
   ]
  }
 ],
 "metadata": {
  "kernelspec": {
   "display_name": "Python 3 (ipykernel)",
   "language": "python",
   "name": "python3"
  },
  "language_info": {
   "codemirror_mode": {
    "name": "ipython",
    "version": 3
   },
   "file_extension": ".py",
   "mimetype": "text/x-python",
   "name": "python",
   "nbconvert_exporter": "python",
   "pygments_lexer": "ipython3",
   "version": "3.11.3"
  }
 },
 "nbformat": 4,
 "nbformat_minor": 5
}
